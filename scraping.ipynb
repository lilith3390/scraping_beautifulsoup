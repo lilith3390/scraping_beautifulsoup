{
 "cells": [
  {
   "cell_type": "code",
   "execution_count": 1,
   "metadata": {},
   "outputs": [
    {
     "name": "stdout",
     "output_type": "stream",
     "text": [
      "Requirement already satisfied: beautifulsoup4 in c:\\users\\lilit\\appdata\\local\\programs\\python\\python313\\lib\\site-packages (4.12.3)\n",
      "Requirement already satisfied: soupsieve>1.2 in c:\\users\\lilit\\appdata\\local\\programs\\python\\python313\\lib\\site-packages (from beautifulsoup4) (2.6)\n",
      "Note: you may need to restart the kernel to use updated packages.\n"
     ]
    }
   ],
   "source": [
    "pip install beautifulsoup4"
   ]
  },
  {
   "cell_type": "code",
   "execution_count": 2,
   "metadata": {},
   "outputs": [
    {
     "name": "stdout",
     "output_type": "stream",
     "text": [
      "Requirement already satisfied: html5lib in c:\\users\\lilit\\appdata\\local\\programs\\python\\python313\\lib\\site-packages (1.1)\n",
      "Requirement already satisfied: six>=1.9 in c:\\users\\lilit\\appdata\\roaming\\python\\python313\\site-packages (from html5lib) (1.16.0)\n",
      "Requirement already satisfied: webencodings in c:\\users\\lilit\\appdata\\local\\programs\\python\\python313\\lib\\site-packages (from html5lib) (0.5.1)\n",
      "Note: you may need to restart the kernel to use updated packages.\n"
     ]
    }
   ],
   "source": [
    "pip install html5lib"
   ]
  },
  {
   "cell_type": "code",
   "execution_count": 3,
   "metadata": {},
   "outputs": [
    {
     "name": "stdout",
     "output_type": "stream",
     "text": [
      "Requirement already satisfied: requests in c:\\users\\lilit\\appdata\\local\\programs\\python\\python313\\lib\\site-packages (2.32.3)\n",
      "Requirement already satisfied: charset-normalizer<4,>=2 in c:\\users\\lilit\\appdata\\local\\programs\\python\\python313\\lib\\site-packages (from requests) (3.4.0)\n",
      "Requirement already satisfied: idna<4,>=2.5 in c:\\users\\lilit\\appdata\\local\\programs\\python\\python313\\lib\\site-packages (from requests) (3.10)\n",
      "Requirement already satisfied: urllib3<3,>=1.21.1 in c:\\users\\lilit\\appdata\\local\\programs\\python\\python313\\lib\\site-packages (from requests) (2.2.3)\n",
      "Requirement already satisfied: certifi>=2017.4.17 in c:\\users\\lilit\\appdata\\local\\programs\\python\\python313\\lib\\site-packages (from requests) (2024.8.30)\n",
      "Note: you may need to restart the kernel to use updated packages.\n"
     ]
    }
   ],
   "source": [
    "pip install requests"
   ]
  },
  {
   "cell_type": "code",
   "execution_count": 4,
   "metadata": {},
   "outputs": [],
   "source": [
    "import requests\n",
    "url=\"https://fr.wikipedia.org/wiki/Liste_des_pays_par_PIB_(PPA)_par_habitant\"\n",
    "r=requests.get(url)\n",
    "#print(r)\n",
    "#print(r.content)"
   ]
  },
  {
   "cell_type": "code",
   "execution_count": 5,
   "metadata": {},
   "outputs": [],
   "source": [
    "from bs4 import BeautifulSoup\n",
    "soup=BeautifulSoup(r.content, 'html5lib')\n",
    "#print(soup)"
   ]
  },
  {
   "cell_type": "code",
   "execution_count": 6,
   "metadata": {},
   "outputs": [
    {
     "name": "stdout",
     "output_type": "stream",
     "text": [
      "[('1', 'Luxembourg', '142\\xa0214'), ('2', 'Singapour', '127\\xa0565'), ('3', 'Irlande', '126\\xa0905'), ('4', 'Norvège', '114\\xa0899'), ('5', 'Qatar', '114\\xa0648'), ('6', 'Bermudes', '95\\xa0837'), ('7', 'Émirats arabes unis', '87\\xa0729'), ('8', 'Suisse', '83\\xa0598'), ('9', 'États-Unis', '76\\xa0399'), ('10', 'Danemark', '74\\xa0005'), ('11', 'Pays-Bas', '69\\xa0577'), ('12', 'Brunei', '69\\xa0275'), ('13', 'Islande', '69\\xa0081'), ('14', 'Hong Kong', '69\\xa0049'), ('15', 'Autriche', '67\\xa0936'), ('16', 'Belgique', '65\\xa0027'), ('17', 'Suède', '64\\xa0578'), ('18', 'Allemagne', '63\\xa0150'), ('19', 'Australie', '62\\xa0625'), ('20', 'Bahreïn', '61\\xa0228'), ('21', 'Arabie saoudite', '59\\xa0065'), ('22', 'Finlande', '59\\xa0027'), ('23', 'Canada', '58\\xa0400'), ('24', 'Koweït', '58\\xa0056'), ('25', 'Malte', '55\\xa0928'), ('26', 'France', '55\\xa0493'), ('27', 'Macao', '55\\xa0344'), ('28', 'Royaume-Uni', '54\\xa0603'), ('29', 'Union européenne', '54\\xa0249'), ('30', 'Nouvelle-Zélande', '51\\xa0967'), ('31', 'Italie', '51\\xa0865'), ('32', 'Corée du Sud', '50\\xa0070'), ('33', 'Slovénie', '50\\xa0032'), ('34', 'République tchèque', '49\\xa0946'), ('35', 'Chypre', '49\\xa0931'), ('36', 'Israël', '49\\xa0509'), ('37', 'Lituanie', '48\\xa0397'), ('38', 'Estonie', '46\\xa0697'), ('39', 'Espagne', '45\\xa0825'), ('40', 'Japon', '45\\xa0573'), ('41', 'Pologne', '43\\xa0269'), ('42', 'Hongrie', '41\\xa0907'), ('43', 'Roumanie', '41\\xa0888'), ('44', 'Saint-Martin', '41\\xa0812'), ('45', 'Oman', '41\\xa0724'), ('46', 'Portugal', '41\\xa0452'), ('47', 'Guyana', '40\\xa0642'), ('48', 'Porto Rico', '40\\xa0498'), ('49', 'Croatie', '40\\xa0380'), ('50', 'Bahamas', '40\\xa0379'), ('51', 'Lettonie', '39\\xa0956'), ('52', 'Panama', '39\\xa0280'), ('53', 'Slovaquie', '37\\xa0459'), ('54', 'Turquie', '37\\xa0274'), ('55', 'Grèce', '36\\xa0835'), ('56', 'Fédération de Russie', '36\\xa0485'), ('57', 'Seychelles', '35\\xa0228'), ('58', 'Saint-Christophe-et-Niévès', '34\\xa0052'), ('59', 'Bulgarie', '34\\xa0011'), ('60', 'Malaisie', '34\\xa0007'), ('61', 'Brésil', '33\\xa0966'), ('62', 'Maldives', '29\\xa0674'), ('63', 'Chili', '28\\xa0858'), ('64', 'Uruguay', '28\\xa0842'), ('65', 'Trinité-et-Tobago', '27\\xa0778'), ('66', 'Monténégro', '26\\xa0984'), ('67', 'Maurice', '26\\xa0906'), ('68', 'Argentine', '26\\xa0505'), ('69', 'Antigua-et-Barbuda', '25\\xa0337'), ('70', 'Costa Rica', '24\\xa0923'), ('71', 'Kazakhstan', '23\\xa0918'), ('72', 'Serbie', '23\\xa0911'), ('73', 'Libye', '23\\xa0375'), ('74', 'Îles Turques-et-Caïques', '22\\xa0915'), ('75', 'République dominicaine', '22\\xa0834'), ('76', 'Biélorussie', '22\\xa0591'), ('77', 'Mexique', '21\\xa0512'), ('78', 'Chine', '21\\xa0476'), ('79', 'Thaïlande', '20\\xa0672'), ('80', 'Bosnie-Herzégovine', '20\\xa0377'), ('81', 'Colombie', '20\\xa0287'), ('82', 'Macédoine du Nord', '20\\xa0162'), ('83', 'Géorgie', '20\\xa0113'), ('84', 'Arménie', '18\\xa0942'), ('85', 'Albanie', '18\\xa0552'), ('86', 'Botswana', '18\\xa0323'), ('87', 'Iran', '18\\xa0075'), ('88', 'Barbade', '18\\xa0009'), ('89', 'Azerbaïdjan', '17\\xa0764'), ('90', 'Sainte-Lucie', '17\\xa0756'), ('91', 'Suriname', '17\\xa0620'), ('92', 'Guinée équatoriale', '17\\xa0396'), ('93', 'Saint-Vincent-et-les-Grenadines', '17\\xa0207'), ('94', 'Grenade', '16\\xa0987'), ('95', 'Gabon', '16\\xa0471'), ('96', 'Paraguay', '15\\xa0977'), ('97', 'Afrique du Sud', '15\\xa0905'), ('98', 'Moldavie', '15\\xa0238'), ('99', 'Égypte', '15\\xa0091'), ('100', 'Pérou', '15\\xa0048'), ('101', 'Kosovo', '14\\xa0723'), ('102', 'Indonésie', '14\\xa0653'), ('103', 'Sri Lanka', '14\\xa0405'), ('104', 'Mongolie', '14\\xa0230'), ('105', 'Fidji', '14\\xa0125'), ('106', 'Dominique', '13\\xa0573'), ('107', 'Viêt Nam', '13\\xa0457'), ('108', 'Algérie', '13\\xa0210'), ('109', 'Nauru', '13\\xa0118'), ('110', 'Équateur', '12\\xa0822'), ('111', 'Ukraine', '12\\xa0671'), ('112', 'Tunisie', '12\\xa0490'), ('113', 'Jamaïque', '11\\xa0822'), ('114', 'Belize', '11\\xa0451'), ('115', 'Namibie', '11\\xa0206'), ('116', 'Salvador', '11\\xa0096'), ('117', 'Jordanie', '11\\xa0003'), ('118', 'Irak', '10\\xa0862'), ('119', 'Guatemala', '10\\xa0818'), ('120', 'Eswatini', '10\\xa0782'), ('121', 'Philippines', '10\\xa0133'), ('122', 'Bolivie', '9\\xa0684'), ('123', 'Ouzbékistan', '9\\xa0533'), ('124', 'Maroc', '9\\xa0519'), ('125', 'Laos', '9\\xa0384'), ('126', 'Cap-Vert', '9\\xa0083'), ('127', 'Inde', '8\\xa0379'), ('128', 'Bangladesh', '7\\xa0395'), ('129', 'Îles Marshall', '7\\xa0228'), ('130', 'Angola', '6\\xa0974'), ('131', 'Nicaragua', '6\\xa0875'), ('132', 'Cisjordanie', '6\\xa0757'), ('133', 'Honduras', '6\\xa0741'), ('134', \"Côte d'Ivoire\", '6\\xa0538'), ('135', 'Ghana', '6\\xa0498'), ('136', 'Pakistan', '6\\xa0437'), ('137', 'Mauritanie', '6\\xa0424'), ('138', 'Kirghizistan', '6\\xa0133'), ('139', 'Samoa', '6\\xa0041'), ('140', 'Djibouti', '5\\xa0893'), ('141', 'Nigeria', '5\\xa0860'), ('142', 'Kenya', '5\\xa0764'), ('143', 'Tuvalu', '5\\xa0421'), ('144', 'Cambodge', '5\\xa0349'), ('145', 'Tadjikistan', '4\\xa0885'), ('146', 'Birmanie', '4\\xa0870'), ('147', 'Timor oriental', '4\\xa0828'), ('148', 'Sao Tomé-et-Principe', '4\\xa0738'), ('149', 'Népal', '4\\xa0725'), ('150', 'Papouasie-Nouvelle-Guinée', '4\\xa0447'), ('151', 'Cameroun', '4\\xa0408'), ('152', 'Soudan', '4\\xa0216'), ('153', 'Sénégal', '4\\xa0209'), ('154', 'Bénin', '4\\xa0056'), ('155', 'Zambie', '3\\xa0894'), ('156', 'Comores', '3\\xa0832'), ('157', 'République du Congo', '3\\xa0791'), ('158', 'Haïti', '3\\xa0305'), ('159', 'Vanuatu', '3\\xa0289'), ('160', 'Guinée', '3\\xa0187'), ('161', 'Tanzanie', '3\\xa0097'), ('162', 'Éthiopie', '2\\xa0812'), ('163', 'Rwanda', '2\\xa0792'), ('164', 'Lesotho', '2\\xa0695'), ('165', 'Ouganda', '2\\xa0694'), ('166', 'Îles Salomon', '2\\xa0654'), ('167', 'Togo', '2\\xa0608'), ('168', 'Burkina Faso', '2\\xa0546'), ('169', 'Zimbabwe', '2\\xa0531'), ('170', 'Mali', '2\\xa0517'), ('171', 'Gambie', '2\\xa0510'), ('172', 'Kiribati', '2\\xa0365'), ('173', 'Guinée-Bissau', '2\\xa0190'), ('174', 'Sierra Leone', '1\\xa0931'), ('175', 'Madagascar', '1\\xa0774'), ('176', 'Malawi', '1\\xa0732'), ('177', 'Liberia', '1\\xa0725'), ('178', 'Tchad', '1\\xa0668'), ('179', 'Niger', '1\\xa0505'), ('180', 'Mozambique', '1\\xa0468'), ('181', 'Somalie', '1\\xa0364'), ('182', 'République démocratique du Congo', '1\\xa0337'), ('183', 'République centrafricaine', '967'), ('184', 'Burundi', '836')]\n"
     ]
    }
   ],
   "source": [
    "tables=soup.findAll('table', attrs={'class': 'wikitable alternance'})\n",
    "data=[]\n",
    "for tr in tables[1].findAll('tr')[1:]: \n",
    "    cells = tr.findAll(['td'])\n",
    "    for cell in cells:       \n",
    "        data.append(cell.text.strip())      \n",
    "dataFinal=list(zip(*[iter(data)]*3))\n",
    "print(dataFinal)"
   ]
  },
  {
   "cell_type": "code",
   "execution_count": 7,
   "metadata": {},
   "outputs": [
    {
     "name": "stdout",
     "output_type": "stream",
     "text": [
      "[['1', 'Luxembourg', '142\\xa0214'], ['2', 'Singapour', '127\\xa0565'], ['3', 'Irlande', '126\\xa0905'], ['4', 'Norvège', '114\\xa0899'], ['5', 'Qatar', '114\\xa0648'], ['6', 'Bermudes', '95\\xa0837'], ['7', 'Émirats arabes unis', '87\\xa0729'], ['8', 'Suisse', '83\\xa0598'], ['9', 'États-Unis', '76\\xa0399'], ['10', 'Danemark', '74\\xa0005'], ['11', 'Pays-Bas', '69\\xa0577'], ['12', 'Brunei', '69\\xa0275'], ['13', 'Islande', '69\\xa0081'], ['14', 'Hong Kong', '69\\xa0049'], ['15', 'Autriche', '67\\xa0936'], ['16', 'Belgique', '65\\xa0027'], ['17', 'Suède', '64\\xa0578'], ['18', 'Allemagne', '63\\xa0150'], ['19', 'Australie', '62\\xa0625'], ['20', 'Bahreïn', '61\\xa0228'], ['21', 'Arabie saoudite', '59\\xa0065'], ['22', 'Finlande', '59\\xa0027'], ['23', 'Canada', '58\\xa0400'], ['24', 'Koweït', '58\\xa0056'], ['25', 'Malte', '55\\xa0928'], ['26', 'France', '55\\xa0493'], ['27', 'Macao', '55\\xa0344'], ['28', 'Royaume-Uni', '54\\xa0603'], ['29', 'Union européenne', '54\\xa0249'], ['30', 'Nouvelle-Zélande', '51\\xa0967'], ['31', 'Italie', '51\\xa0865'], ['32', 'Corée du Sud', '50\\xa0070'], ['33', 'Slovénie', '50\\xa0032'], ['34', 'République tchèque', '49\\xa0946'], ['35', 'Chypre', '49\\xa0931'], ['36', 'Israël', '49\\xa0509'], ['37', 'Lituanie', '48\\xa0397'], ['38', 'Estonie', '46\\xa0697'], ['39', 'Espagne', '45\\xa0825'], ['40', 'Japon', '45\\xa0573'], ['41', 'Pologne', '43\\xa0269'], ['42', 'Hongrie', '41\\xa0907'], ['43', 'Roumanie', '41\\xa0888'], ['44', 'Saint-Martin', '41\\xa0812'], ['45', 'Oman', '41\\xa0724'], ['46', 'Portugal', '41\\xa0452'], ['47', 'Guyana', '40\\xa0642'], ['48', 'Porto Rico', '40\\xa0498'], ['49', 'Croatie', '40\\xa0380'], ['50', 'Bahamas', '40\\xa0379'], ['51', 'Lettonie', '39\\xa0956'], ['52', 'Panama', '39\\xa0280'], ['53', 'Slovaquie', '37\\xa0459'], ['54', 'Turquie', '37\\xa0274'], ['55', 'Grèce', '36\\xa0835'], ['56', 'Fédération de Russie', '36\\xa0485'], ['57', 'Seychelles', '35\\xa0228'], ['58', 'Saint-Christophe-et-Niévès', '34\\xa0052'], ['59', 'Bulgarie', '34\\xa0011'], ['60', 'Malaisie', '34\\xa0007'], ['61', 'Brésil', '33\\xa0966'], ['62', 'Maldives', '29\\xa0674'], ['63', 'Chili', '28\\xa0858'], ['64', 'Uruguay', '28\\xa0842'], ['65', 'Trinité-et-Tobago', '27\\xa0778'], ['66', 'Monténégro', '26\\xa0984'], ['67', 'Maurice', '26\\xa0906'], ['68', 'Argentine', '26\\xa0505'], ['69', 'Antigua-et-Barbuda', '25\\xa0337'], ['70', 'Costa Rica', '24\\xa0923'], ['71', 'Kazakhstan', '23\\xa0918'], ['72', 'Serbie', '23\\xa0911'], ['73', 'Libye', '23\\xa0375'], ['74', 'Îles Turques-et-Caïques', '22\\xa0915'], ['75', 'République dominicaine', '22\\xa0834'], ['76', 'Biélorussie', '22\\xa0591'], ['77', 'Mexique', '21\\xa0512'], ['78', 'Chine', '21\\xa0476'], ['79', 'Thaïlande', '20\\xa0672'], ['80', 'Bosnie-Herzégovine', '20\\xa0377'], ['81', 'Colombie', '20\\xa0287'], ['82', 'Macédoine du Nord', '20\\xa0162'], ['83', 'Géorgie', '20\\xa0113'], ['84', 'Arménie', '18\\xa0942'], ['85', 'Albanie', '18\\xa0552'], ['86', 'Botswana', '18\\xa0323'], ['87', 'Iran', '18\\xa0075'], ['88', 'Barbade', '18\\xa0009'], ['89', 'Azerbaïdjan', '17\\xa0764'], ['90', 'Sainte-Lucie', '17\\xa0756'], ['91', 'Suriname', '17\\xa0620'], ['92', 'Guinée équatoriale', '17\\xa0396'], ['93', 'Saint-Vincent-et-les-Grenadines', '17\\xa0207'], ['94', 'Grenade', '16\\xa0987'], ['95', 'Gabon', '16\\xa0471'], ['96', 'Paraguay', '15\\xa0977'], ['97', 'Afrique du Sud', '15\\xa0905'], ['98', 'Moldavie', '15\\xa0238'], ['99', 'Égypte', '15\\xa0091'], ['100', 'Pérou', '15\\xa0048'], ['101', 'Kosovo', '14\\xa0723'], ['102', 'Indonésie', '14\\xa0653'], ['103', 'Sri Lanka', '14\\xa0405'], ['104', 'Mongolie', '14\\xa0230'], ['105', 'Fidji', '14\\xa0125'], ['106', 'Dominique', '13\\xa0573'], ['107', 'Viêt Nam', '13\\xa0457'], ['108', 'Algérie', '13\\xa0210'], ['109', 'Nauru', '13\\xa0118'], ['110', 'Équateur', '12\\xa0822'], ['111', 'Ukraine', '12\\xa0671'], ['112', 'Tunisie', '12\\xa0490'], ['113', 'Jamaïque', '11\\xa0822'], ['114', 'Belize', '11\\xa0451'], ['115', 'Namibie', '11\\xa0206'], ['116', 'Salvador', '11\\xa0096'], ['117', 'Jordanie', '11\\xa0003'], ['118', 'Irak', '10\\xa0862'], ['119', 'Guatemala', '10\\xa0818'], ['120', 'Eswatini', '10\\xa0782'], ['121', 'Philippines', '10\\xa0133'], ['122', 'Bolivie', '9\\xa0684'], ['123', 'Ouzbékistan', '9\\xa0533'], ['124', 'Maroc', '9\\xa0519'], ['125', 'Laos', '9\\xa0384'], ['126', 'Cap-Vert', '9\\xa0083'], ['127', 'Inde', '8\\xa0379'], ['128', 'Bangladesh', '7\\xa0395'], ['129', 'Îles Marshall', '7\\xa0228'], ['130', 'Angola', '6\\xa0974'], ['131', 'Nicaragua', '6\\xa0875'], ['132', 'Cisjordanie', '6\\xa0757'], ['133', 'Honduras', '6\\xa0741'], ['134', \"Côte d'Ivoire\", '6\\xa0538'], ['135', 'Ghana', '6\\xa0498'], ['136', 'Pakistan', '6\\xa0437'], ['137', 'Mauritanie', '6\\xa0424'], ['138', 'Kirghizistan', '6\\xa0133'], ['139', 'Samoa', '6\\xa0041'], ['140', 'Djibouti', '5\\xa0893'], ['141', 'Nigeria', '5\\xa0860'], ['142', 'Kenya', '5\\xa0764'], ['143', 'Tuvalu', '5\\xa0421'], ['144', 'Cambodge', '5\\xa0349'], ['145', 'Tadjikistan', '4\\xa0885'], ['146', 'Birmanie', '4\\xa0870'], ['147', 'Timor oriental', '4\\xa0828'], ['148', 'Sao Tomé-et-Principe', '4\\xa0738'], ['149', 'Népal', '4\\xa0725'], ['150', 'Papouasie-Nouvelle-Guinée', '4\\xa0447'], ['151', 'Cameroun', '4\\xa0408'], ['152', 'Soudan', '4\\xa0216'], ['153', 'Sénégal', '4\\xa0209'], ['154', 'Bénin', '4\\xa0056'], ['155', 'Zambie', '3\\xa0894'], ['156', 'Comores', '3\\xa0832'], ['157', 'République du Congo', '3\\xa0791'], ['158', 'Haïti', '3\\xa0305'], ['159', 'Vanuatu', '3\\xa0289'], ['160', 'Guinée', '3\\xa0187'], ['161', 'Tanzanie', '3\\xa0097'], ['162', 'Éthiopie', '2\\xa0812'], ['163', 'Rwanda', '2\\xa0792'], ['164', 'Lesotho', '2\\xa0695'], ['165', 'Ouganda', '2\\xa0694'], ['166', 'Îles Salomon', '2\\xa0654'], ['167', 'Togo', '2\\xa0608'], ['168', 'Burkina Faso', '2\\xa0546'], ['169', 'Zimbabwe', '2\\xa0531'], ['170', 'Mali', '2\\xa0517'], ['171', 'Gambie', '2\\xa0510'], ['172', 'Kiribati', '2\\xa0365'], ['173', 'Guinée-Bissau', '2\\xa0190'], ['174', 'Sierra Leone', '1\\xa0931'], ['175', 'Madagascar', '1\\xa0774'], ['176', 'Malawi', '1\\xa0732'], ['177', 'Liberia', '1\\xa0725'], ['178', 'Tchad', '1\\xa0668'], ['179', 'Niger', '1\\xa0505'], ['180', 'Mozambique', '1\\xa0468'], ['181', 'Somalie', '1\\xa0364'], ['182', 'République démocratique du Congo', '1\\xa0337'], ['183', 'République centrafricaine', '967'], ['184', 'Burundi', '836']]\n"
     ]
    }
   ],
   "source": [
    "# tuples => list \n",
    "dataFinalList=[]\n",
    "for i in dataFinal:\n",
    "    i=list(i)\n",
    "    dataFinalList.append(i)\n",
    "print(dataFinalList)\n"
   ]
  },
  {
   "cell_type": "code",
   "execution_count": 8,
   "metadata": {},
   "outputs": [
    {
     "name": "stdout",
     "output_type": "stream",
     "text": [
      "142214\n",
      "127565\n",
      "126905\n",
      "114899\n",
      "114648\n",
      "95837\n",
      "87729\n",
      "83598\n",
      "76399\n",
      "74005\n",
      "69577\n",
      "69275\n",
      "69081\n",
      "69049\n",
      "67936\n",
      "65027\n",
      "64578\n",
      "63150\n",
      "62625\n",
      "61228\n",
      "59065\n",
      "59027\n",
      "58400\n",
      "58056\n",
      "55928\n",
      "55493\n",
      "55344\n",
      "54603\n",
      "54249\n",
      "51967\n",
      "51865\n",
      "50070\n",
      "50032\n",
      "49946\n",
      "49931\n",
      "49509\n",
      "48397\n",
      "46697\n",
      "45825\n",
      "45573\n",
      "43269\n",
      "41907\n",
      "41888\n",
      "41812\n",
      "41724\n",
      "41452\n",
      "40642\n",
      "40498\n",
      "40380\n",
      "40379\n",
      "39956\n",
      "39280\n",
      "37459\n",
      "37274\n",
      "36835\n",
      "36485\n",
      "35228\n",
      "34052\n",
      "34011\n",
      "34007\n",
      "33966\n",
      "29674\n",
      "28858\n",
      "28842\n",
      "27778\n",
      "26984\n",
      "26906\n",
      "26505\n",
      "25337\n",
      "24923\n",
      "23918\n",
      "23911\n",
      "23375\n",
      "22915\n",
      "22834\n",
      "22591\n",
      "21512\n",
      "21476\n",
      "20672\n",
      "20377\n",
      "20287\n",
      "20162\n",
      "20113\n",
      "18942\n",
      "18552\n",
      "18323\n",
      "18075\n",
      "18009\n",
      "17764\n",
      "17756\n",
      "17620\n",
      "17396\n",
      "17207\n",
      "16987\n",
      "16471\n",
      "15977\n",
      "15905\n",
      "15238\n",
      "15091\n",
      "15048\n",
      "14723\n",
      "14653\n",
      "14405\n",
      "14230\n",
      "14125\n",
      "13573\n",
      "13457\n",
      "13210\n",
      "13118\n",
      "12822\n",
      "12671\n",
      "12490\n",
      "11822\n",
      "11451\n",
      "11206\n",
      "11096\n",
      "11003\n",
      "10862\n",
      "10818\n",
      "10782\n",
      "10133\n",
      "9684\n",
      "9533\n",
      "9519\n",
      "9384\n",
      "9083\n",
      "8379\n",
      "7395\n",
      "7228\n",
      "6974\n",
      "6875\n",
      "6757\n",
      "6741\n",
      "6538\n",
      "6498\n",
      "6437\n",
      "6424\n",
      "6133\n",
      "6041\n",
      "5893\n",
      "5860\n",
      "5764\n",
      "5421\n",
      "5349\n",
      "4885\n",
      "4870\n",
      "4828\n",
      "4738\n",
      "4725\n",
      "4447\n",
      "4408\n",
      "4216\n",
      "4209\n",
      "4056\n",
      "3894\n",
      "3832\n",
      "3791\n",
      "3305\n",
      "3289\n",
      "3187\n",
      "3097\n",
      "2812\n",
      "2792\n",
      "2695\n",
      "2694\n",
      "2654\n",
      "2608\n",
      "2546\n",
      "2531\n",
      "2517\n",
      "2510\n",
      "2365\n",
      "2190\n",
      "1931\n",
      "1774\n",
      "1732\n",
      "1725\n",
      "1668\n",
      "1505\n",
      "1468\n",
      "1364\n",
      "1337\n",
      "967\n",
      "836\n"
     ]
    }
   ],
   "source": [
    "for i,row in enumerate(dataFinalList):    \n",
    "    dataFinalList[i][2]=row[2].replace(u'\\xa0',u'').strip()\n",
    "    print(row[2].replace(u\" \",u\"\").strip())\n",
    "    #print(i)\n",
    "#print(dataFinalList)"
   ]
  },
  {
   "cell_type": "code",
   "execution_count": 9,
   "metadata": {},
   "outputs": [],
   "source": [
    "import sqlite3\n",
    "\n",
    "con = sqlite3.connect(\"pib.db3\")\n",
    "cur = con.cursor()"
   ]
  },
  {
   "cell_type": "code",
   "execution_count": 10,
   "metadata": {},
   "outputs": [
    {
     "data": {
      "text/plain": [
       "<sqlite3.Cursor at 0x244d86bf240>"
      ]
     },
     "execution_count": 10,
     "metadata": {},
     "output_type": "execute_result"
    }
   ],
   "source": [
    "queryCreate='''DROP TABLE IF EXISTS country_pib;\n",
    "               CREATE TABLE country_pib(\n",
    "                    id INTEGER NOT NULL PRIMARY KEY,\n",
    "                    country VARCHAR(100) NOT NULL,\n",
    "                    pib INTEGER\n",
    "                );\n",
    "            '''\n",
    "cur.executescript(queryCreate)"
   ]
  },
  {
   "cell_type": "code",
   "execution_count": 11,
   "metadata": {},
   "outputs": [
    {
     "name": "stdout",
     "output_type": "stream",
     "text": [
      "[]\n"
     ]
    }
   ],
   "source": [
    "querySelect=\"Select * from country_pib\"\n",
    "resBefore = cur.execute(querySelect)\n",
    "print(resBefore.fetchall())"
   ]
  },
  {
   "cell_type": "code",
   "execution_count": 12,
   "metadata": {},
   "outputs": [],
   "source": [
    "queryInsert=''' INSERT INTO  country_pib(id, country, pib)\n",
    "                VALUES (?,?,?)\n",
    "            '''\n",
    "for i in dataFinalList:\n",
    "    cur.execute(queryInsert,(i[0],i[1],i[2]))\n",
    "    #print(i)\n",
    "con.commit()"
   ]
  },
  {
   "cell_type": "code",
   "execution_count": 13,
   "metadata": {},
   "outputs": [
    {
     "name": "stdout",
     "output_type": "stream",
     "text": [
      "[(1, 'Luxembourg', 142214), (2, 'Singapour', 127565), (3, 'Irlande', 126905), (4, 'Norvège', 114899), (5, 'Qatar', 114648), (6, 'Bermudes', 95837), (7, 'Émirats arabes unis', 87729), (8, 'Suisse', 83598), (9, 'États-Unis', 76399), (10, 'Danemark', 74005), (11, 'Pays-Bas', 69577), (12, 'Brunei', 69275), (13, 'Islande', 69081), (14, 'Hong Kong', 69049), (15, 'Autriche', 67936), (16, 'Belgique', 65027), (17, 'Suède', 64578), (18, 'Allemagne', 63150), (19, 'Australie', 62625), (20, 'Bahreïn', 61228), (21, 'Arabie saoudite', 59065), (22, 'Finlande', 59027), (23, 'Canada', 58400), (24, 'Koweït', 58056), (25, 'Malte', 55928), (26, 'France', 55493), (27, 'Macao', 55344), (28, 'Royaume-Uni', 54603), (29, 'Union européenne', 54249), (30, 'Nouvelle-Zélande', 51967), (31, 'Italie', 51865), (32, 'Corée du Sud', 50070), (33, 'Slovénie', 50032), (34, 'République tchèque', 49946), (35, 'Chypre', 49931), (36, 'Israël', 49509), (37, 'Lituanie', 48397), (38, 'Estonie', 46697), (39, 'Espagne', 45825), (40, 'Japon', 45573), (41, 'Pologne', 43269), (42, 'Hongrie', 41907), (43, 'Roumanie', 41888), (44, 'Saint-Martin', 41812), (45, 'Oman', 41724), (46, 'Portugal', 41452), (47, 'Guyana', 40642), (48, 'Porto Rico', 40498), (49, 'Croatie', 40380), (50, 'Bahamas', 40379), (51, 'Lettonie', 39956), (52, 'Panama', 39280), (53, 'Slovaquie', 37459), (54, 'Turquie', 37274), (55, 'Grèce', 36835), (56, 'Fédération de Russie', 36485), (57, 'Seychelles', 35228), (58, 'Saint-Christophe-et-Niévès', 34052), (59, 'Bulgarie', 34011), (60, 'Malaisie', 34007), (61, 'Brésil', 33966), (62, 'Maldives', 29674), (63, 'Chili', 28858), (64, 'Uruguay', 28842), (65, 'Trinité-et-Tobago', 27778), (66, 'Monténégro', 26984), (67, 'Maurice', 26906), (68, 'Argentine', 26505), (69, 'Antigua-et-Barbuda', 25337), (70, 'Costa Rica', 24923), (71, 'Kazakhstan', 23918), (72, 'Serbie', 23911), (73, 'Libye', 23375), (74, 'Îles Turques-et-Caïques', 22915), (75, 'République dominicaine', 22834), (76, 'Biélorussie', 22591), (77, 'Mexique', 21512), (78, 'Chine', 21476), (79, 'Thaïlande', 20672), (80, 'Bosnie-Herzégovine', 20377), (81, 'Colombie', 20287), (82, 'Macédoine du Nord', 20162), (83, 'Géorgie', 20113), (84, 'Arménie', 18942), (85, 'Albanie', 18552), (86, 'Botswana', 18323), (87, 'Iran', 18075), (88, 'Barbade', 18009), (89, 'Azerbaïdjan', 17764), (90, 'Sainte-Lucie', 17756), (91, 'Suriname', 17620), (92, 'Guinée équatoriale', 17396), (93, 'Saint-Vincent-et-les-Grenadines', 17207), (94, 'Grenade', 16987), (95, 'Gabon', 16471), (96, 'Paraguay', 15977), (97, 'Afrique du Sud', 15905), (98, 'Moldavie', 15238), (99, 'Égypte', 15091), (100, 'Pérou', 15048), (101, 'Kosovo', 14723), (102, 'Indonésie', 14653), (103, 'Sri Lanka', 14405), (104, 'Mongolie', 14230), (105, 'Fidji', 14125), (106, 'Dominique', 13573), (107, 'Viêt Nam', 13457), (108, 'Algérie', 13210), (109, 'Nauru', 13118), (110, 'Équateur', 12822), (111, 'Ukraine', 12671), (112, 'Tunisie', 12490), (113, 'Jamaïque', 11822), (114, 'Belize', 11451), (115, 'Namibie', 11206), (116, 'Salvador', 11096), (117, 'Jordanie', 11003), (118, 'Irak', 10862), (119, 'Guatemala', 10818), (120, 'Eswatini', 10782), (121, 'Philippines', 10133), (122, 'Bolivie', 9684), (123, 'Ouzbékistan', 9533), (124, 'Maroc', 9519), (125, 'Laos', 9384), (126, 'Cap-Vert', 9083), (127, 'Inde', 8379), (128, 'Bangladesh', 7395), (129, 'Îles Marshall', 7228), (130, 'Angola', 6974), (131, 'Nicaragua', 6875), (132, 'Cisjordanie', 6757), (133, 'Honduras', 6741), (134, \"Côte d'Ivoire\", 6538), (135, 'Ghana', 6498), (136, 'Pakistan', 6437), (137, 'Mauritanie', 6424), (138, 'Kirghizistan', 6133), (139, 'Samoa', 6041), (140, 'Djibouti', 5893), (141, 'Nigeria', 5860), (142, 'Kenya', 5764), (143, 'Tuvalu', 5421), (144, 'Cambodge', 5349), (145, 'Tadjikistan', 4885), (146, 'Birmanie', 4870), (147, 'Timor oriental', 4828), (148, 'Sao Tomé-et-Principe', 4738), (149, 'Népal', 4725), (150, 'Papouasie-Nouvelle-Guinée', 4447), (151, 'Cameroun', 4408), (152, 'Soudan', 4216), (153, 'Sénégal', 4209), (154, 'Bénin', 4056), (155, 'Zambie', 3894), (156, 'Comores', 3832), (157, 'République du Congo', 3791), (158, 'Haïti', 3305), (159, 'Vanuatu', 3289), (160, 'Guinée', 3187), (161, 'Tanzanie', 3097), (162, 'Éthiopie', 2812), (163, 'Rwanda', 2792), (164, 'Lesotho', 2695), (165, 'Ouganda', 2694), (166, 'Îles Salomon', 2654), (167, 'Togo', 2608), (168, 'Burkina Faso', 2546), (169, 'Zimbabwe', 2531), (170, 'Mali', 2517), (171, 'Gambie', 2510), (172, 'Kiribati', 2365), (173, 'Guinée-Bissau', 2190), (174, 'Sierra Leone', 1931), (175, 'Madagascar', 1774), (176, 'Malawi', 1732), (177, 'Liberia', 1725), (178, 'Tchad', 1668), (179, 'Niger', 1505), (180, 'Mozambique', 1468), (181, 'Somalie', 1364), (182, 'République démocratique du Congo', 1337), (183, 'République centrafricaine', 967), (184, 'Burundi', 836)]\n"
     ]
    }
   ],
   "source": [
    "resAfter = cur.execute(querySelect)\n",
    "print(resAfter.fetchall())"
   ]
  },
  {
   "cell_type": "code",
   "execution_count": 14,
   "metadata": {},
   "outputs": [],
   "source": [
    "cur.close()\n",
    "con.close()"
   ]
  }
 ],
 "metadata": {
  "kernelspec": {
   "display_name": "Python 3",
   "language": "python",
   "name": "python3"
  },
  "language_info": {
   "codemirror_mode": {
    "name": "ipython",
    "version": 3
   },
   "file_extension": ".py",
   "mimetype": "text/x-python",
   "name": "python",
   "nbconvert_exporter": "python",
   "pygments_lexer": "ipython3",
   "version": "3.13.0"
  }
 },
 "nbformat": 4,
 "nbformat_minor": 2
}
